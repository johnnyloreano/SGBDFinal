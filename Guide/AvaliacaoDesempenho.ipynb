{
 "cells": [
  {
   "cell_type": "markdown",
   "metadata": {},
   "source": [
    "# Avaliação de Desempenho"
   ]
  },
  {
   "cell_type": "markdown",
   "metadata": {},
   "source": [
    "## Estudo de caso: Acidentes de Trânsito na cidade de Porto Alegre/RS\n",
    "Este exemplo usa a base de dados abaixo, sobre acidentes de trânsito na cidade de Porto Alegre, para criar modelos preditivos de classificação para prever se haverá ou não morte de alguma vítima hospitalizada em até 30 dias após o acidente (coluna alvo morte_post)."
   ]
  },
  {
   "cell_type": "code",
   "execution_count": 1,
   "metadata": {},
   "outputs": [
    {
     "data": {
      "text/html": [
       "<div>\n",
       "<style scoped>\n",
       "    .dataframe tbody tr th:only-of-type {\n",
       "        vertical-align: middle;\n",
       "    }\n",
       "\n",
       "    .dataframe tbody tr th {\n",
       "        vertical-align: top;\n",
       "    }\n",
       "\n",
       "    .dataframe thead th {\n",
       "        text-align: right;\n",
       "    }\n",
       "</style>\n",
       "<table border=\"1\" class=\"dataframe\">\n",
       "  <thead>\n",
       "    <tr style=\"text-align: right;\">\n",
       "      <th></th>\n",
       "      <th>data_extracao</th>\n",
       "      <th>idacidente</th>\n",
       "      <th>longitude</th>\n",
       "      <th>latitude</th>\n",
       "      <th>log1</th>\n",
       "      <th>log2</th>\n",
       "      <th>predial1</th>\n",
       "      <th>tipo_acid</th>\n",
       "      <th>queda_arr</th>\n",
       "      <th>data</th>\n",
       "      <th>...</th>\n",
       "      <th>caminhao</th>\n",
       "      <th>moto</th>\n",
       "      <th>carroca</th>\n",
       "      <th>bicicleta</th>\n",
       "      <th>outro</th>\n",
       "      <th>noite_dia</th>\n",
       "      <th>regiao</th>\n",
       "      <th>cont_vit</th>\n",
       "      <th>ups</th>\n",
       "      <th>consorcio</th>\n",
       "    </tr>\n",
       "  </thead>\n",
       "  <tbody>\n",
       "    <tr>\n",
       "      <th>0</th>\n",
       "      <td>2020-04-01 01:33:32</td>\n",
       "      <td>600976</td>\n",
       "      <td>-51.235877</td>\n",
       "      <td>-30.030187</td>\n",
       "      <td>R GEN BENTO MARTINS</td>\n",
       "      <td>R SIQUEIRA CAMPOS</td>\n",
       "      <td>0</td>\n",
       "      <td>ABALROAMENTO</td>\n",
       "      <td>0</td>\n",
       "      <td>2015-01-01 00:00:00</td>\n",
       "      <td>...</td>\n",
       "      <td>0</td>\n",
       "      <td>0</td>\n",
       "      <td>0</td>\n",
       "      <td>0</td>\n",
       "      <td>0</td>\n",
       "      <td>NOITE</td>\n",
       "      <td>CENTRO</td>\n",
       "      <td>1</td>\n",
       "      <td>5</td>\n",
       "      <td>NaN</td>\n",
       "    </tr>\n",
       "    <tr>\n",
       "      <th>1</th>\n",
       "      <td>2020-04-01 01:33:32</td>\n",
       "      <td>601032</td>\n",
       "      <td>-51.214623</td>\n",
       "      <td>-30.043469</td>\n",
       "      <td>NaN</td>\n",
       "      <td>NaN</td>\n",
       "      <td>0</td>\n",
       "      <td>ABALROAMENTO</td>\n",
       "      <td>0</td>\n",
       "      <td>2015-01-03 00:00:00</td>\n",
       "      <td>...</td>\n",
       "      <td>0</td>\n",
       "      <td>0</td>\n",
       "      <td>0</td>\n",
       "      <td>0</td>\n",
       "      <td>0</td>\n",
       "      <td>NOITE</td>\n",
       "      <td>CENTRO</td>\n",
       "      <td>0</td>\n",
       "      <td>1</td>\n",
       "      <td>NaN</td>\n",
       "    </tr>\n",
       "    <tr>\n",
       "      <th>2</th>\n",
       "      <td>2020-04-01 01:33:32</td>\n",
       "      <td>601045</td>\n",
       "      <td>-51.158916</td>\n",
       "      <td>-30.063865</td>\n",
       "      <td>AV BENTO GONCALVES</td>\n",
       "      <td>NaN</td>\n",
       "      <td>5690</td>\n",
       "      <td>ABALROAMENTO</td>\n",
       "      <td>0</td>\n",
       "      <td>2015-01-05 00:00:00</td>\n",
       "      <td>...</td>\n",
       "      <td>0</td>\n",
       "      <td>0</td>\n",
       "      <td>0</td>\n",
       "      <td>0</td>\n",
       "      <td>0</td>\n",
       "      <td>DIA</td>\n",
       "      <td>LESTE</td>\n",
       "      <td>1</td>\n",
       "      <td>5</td>\n",
       "      <td>NaN</td>\n",
       "    </tr>\n",
       "  </tbody>\n",
       "</table>\n",
       "<p>3 rows × 33 columns</p>\n",
       "</div>"
      ],
      "text/plain": [
       "         data_extracao  idacidente  longitude   latitude                 log1  \\\n",
       "0  2020-04-01 01:33:32      600976 -51.235877 -30.030187  R GEN BENTO MARTINS   \n",
       "1  2020-04-01 01:33:32      601032 -51.214623 -30.043469                  NaN   \n",
       "2  2020-04-01 01:33:32      601045 -51.158916 -30.063865   AV BENTO GONCALVES   \n",
       "\n",
       "                log2  predial1     tipo_acid  queda_arr                 data  \\\n",
       "0  R SIQUEIRA CAMPOS         0  ABALROAMENTO          0  2015-01-01 00:00:00   \n",
       "1                NaN         0  ABALROAMENTO          0  2015-01-03 00:00:00   \n",
       "2                NaN      5690  ABALROAMENTO          0  2015-01-05 00:00:00   \n",
       "\n",
       "   ... caminhao moto  carroca  bicicleta  outro  noite_dia  \\\n",
       "0  ...        0    0        0          0      0      NOITE   \n",
       "1  ...        0    0        0          0      0      NOITE   \n",
       "2  ...        0    0        0          0      0        DIA   \n",
       "\n",
       "                 regiao  cont_vit  ups  consorcio  \n",
       "0  CENTRO                       1    5        NaN  \n",
       "1  CENTRO                       0    1        NaN  \n",
       "2  LESTE                        1    5        NaN  \n",
       "\n",
       "[3 rows x 33 columns]"
      ]
     },
     "execution_count": 1,
     "metadata": {},
     "output_type": "execute_result"
    }
   ],
   "source": [
    "import numpy as np\n",
    "import matplotlib.pyplot as plt\n",
    "import pandas as pd\n",
    "\n",
    "df = pd.read_csv('cat_acidentes.csv',sep=';')\n",
    "df.head(3)"
   ]
  },
  {
   "cell_type": "markdown",
   "metadata": {},
   "source": [
    "## Pré-processamento"
   ]
  },
  {
   "cell_type": "code",
   "execution_count": 2,
   "metadata": {},
   "outputs": [],
   "source": [
    "from sklearn.impute          import SimpleImputer\n",
    "from sklearn.preprocessing   import StandardScaler\n",
    "from sklearn.preprocessing   import OneHotEncoder\n",
    "from sklearn.model_selection import train_test_split\n",
    "from sklearn.pipeline        import Pipeline\n",
    "from sklearn.compose         import ColumnTransformer\n",
    "\n",
    "# atributos a serem removidos: data_extracao, idacidente, log1, log2, predial1, \n",
    "#                              data, hora, consorcio, noite_dia, cont_vit\n",
    "nomes_atributos_numericos   = ['longitude','latitude','feridos','feridos_gr','mortes','auto','taxi','lotacao','onibus_urb','onibus_met',\n",
    "                               'onibus_int','caminhao','moto','carroca','bicicleta','outro']\n",
    "nomes_atributos_binarios    = ['queda_arr','dia_bin']\n",
    "nomes_atributos_categoricos = ['tipo_acid','dia_sem','regiao','ups']\n",
    "nome_coluna_alvo            = ['morte_post']\n",
    "\n",
    "# Preenchendo dados ausentes na coluna noite_dia\n",
    "imputer = SimpleImputer(strategy='most_frequent')\n",
    "df['noite_dia'] = imputer.fit_transform(df[['noite_dia']])\n",
    "\n",
    "# Transformando noite_dia em uma única coluna binária\n",
    "df['dia_bin'] = 0\n",
    "df.loc[df['noite_dia']=='DIA','dia_bin'] = 1\n",
    "\n",
    "# Remoção de linhas com valores ausentes\n",
    "df = df.dropna(subset=['longitude','latitude'])\n",
    "\n",
    "# separando os conjuntos de dados de treino e teste\n",
    "df_treino, df_teste = train_test_split(df, test_size=0.2, random_state=42)\n",
    "\n",
    "# separando a coluna alvo do conjunto de treino\n",
    "df_treino_labels = df_treino[nome_coluna_alvo].copy()\n",
    "df_treino        = df_treino.drop(columns=nome_coluna_alvo)\n",
    "\n",
    "# separando a coluna alvo do conjunto de teste\n",
    "df_teste_labels = df_teste[nome_coluna_alvo].copy()\n",
    "df_teste        = df_teste.drop(columns=nome_coluna_alvo)\n",
    "\n",
    "# Pipelines de Pré-processamento\n",
    "pipeline_atr_numericos = Pipeline([\n",
    "    ('imputer',SimpleImputer(strategy='mean')),\n",
    "    ('scaler', StandardScaler()),\n",
    "])\n",
    "\n",
    "preproc_completo = ColumnTransformer([\n",
    "    ('numericos',   pipeline_atr_numericos, nomes_atributos_numericos   ),\n",
    "    ('binarios',    'passthrough',          nomes_atributos_binarios    ),\n",
    "    ('categoricos', OneHotEncoder(),        nomes_atributos_categoricos ),\n",
    "    ],\n",
    "    sparse_threshold=0)\n",
    "\n",
    "# pre-processamento do conjunto de treino\n",
    "X_treino = preproc_completo.fit_transform(df_treino)\n",
    "\n",
    "# pre-processamento do conjunto de teste\n",
    "X_teste = preproc_completo.transform(df_teste)\n",
    "    \n",
    "# Coluna alvo para os conjuntos de treino e teste\n",
    "y_treino = df_treino_labels[ nome_coluna_alvo ] > 0\n",
    "y_treino = y_treino.values.ravel()\n",
    "\n",
    "y_teste  = df_teste_labels[  nome_coluna_alvo ] > 0\n",
    "y_teste  = y_teste.values.ravel()\n",
    "\n",
    "nomes_atributos = nomes_atributos_numericos\n",
    "nomes_atributos = np.append( nomes_atributos, nomes_atributos_binarios )\n",
    "nomes_atributos = np.append( nomes_atributos,\n",
    "                             preproc_completo.named_transformers_['categoricos'].get_feature_names())"
   ]
  },
  {
   "cell_type": "code",
   "execution_count": 3,
   "metadata": {},
   "outputs": [
    {
     "data": {
      "text/plain": [
       "((43129, 43), (43129,))"
      ]
     },
     "execution_count": 3,
     "metadata": {},
     "output_type": "execute_result"
    }
   ],
   "source": [
    "X_treino.shape, y_treino.shape"
   ]
  },
  {
   "cell_type": "code",
   "execution_count": 4,
   "metadata": {},
   "outputs": [
    {
     "data": {
      "text/plain": [
       "array([False, False, False, ..., False, False, False])"
      ]
     },
     "execution_count": 4,
     "metadata": {},
     "output_type": "execute_result"
    }
   ],
   "source": [
    "y_treino"
   ]
  },
  {
   "cell_type": "code",
   "execution_count": 5,
   "metadata": {},
   "outputs": [
    {
     "name": "stdout",
     "output_type": "stream",
     "text": [
      "[[    0     1]\n",
      " [42995   134]]\n",
      "Proporção classe True:  0.003106958195181896\n"
     ]
    }
   ],
   "source": [
    "valores_y_treino, quantidades_y_treino = np.unique(y_treino, return_counts=True)\n",
    "print(np.asarray((valores_y_treino, quantidades_y_treino)))\n",
    "print(\"Proporção classe True: \",quantidades_y_treino[1]/y_treino.shape[0])"
   ]
  },
  {
   "cell_type": "code",
   "execution_count": 6,
   "metadata": {},
   "outputs": [
    {
     "data": {
      "text/plain": [
       "((10783, 43), (10783,))"
      ]
     },
     "execution_count": 6,
     "metadata": {},
     "output_type": "execute_result"
    }
   ],
   "source": [
    "X_teste.shape, y_teste.shape"
   ]
  },
  {
   "cell_type": "code",
   "execution_count": 7,
   "metadata": {},
   "outputs": [
    {
     "name": "stdout",
     "output_type": "stream",
     "text": [
      "[[    0     1]\n",
      " [10740    43]]\n",
      "Proporção classe True:  0.003987758508763795\n"
     ]
    }
   ],
   "source": [
    "valores_y_teste, quantidades_y_teste = np.unique(y_teste, return_counts=True)\n",
    "print(np.asarray((valores_y_teste, quantidades_y_teste)))\n",
    "print(\"Proporção classe True: \",quantidades_y_teste[1]/y_teste.shape[0])"
   ]
  },
  {
   "cell_type": "code",
   "execution_count": 8,
   "metadata": {},
   "outputs": [
    {
     "data": {
      "text/plain": [
       "array(['longitude', 'latitude', 'feridos', 'feridos_gr', 'mortes', 'auto',\n",
       "       'taxi', 'lotacao', 'onibus_urb', 'onibus_met', 'onibus_int',\n",
       "       'caminhao', 'moto', 'carroca', 'bicicleta', 'outro', 'queda_arr',\n",
       "       'dia_bin', 'x0_ABALROAMENTO', 'x0_ATROPELAMENTO', 'x0_CAPOTAGEM',\n",
       "       'x0_CHOQUE', 'x0_COLISÃO', 'x0_EVENTUAL', 'x0_INCÊNDIO',\n",
       "       'x0_NAO CADASTRADO', 'x0_QUEDA', 'x0_TOMBAMENTO', 'x1_DOMINGO',\n",
       "       'x1_QUARTA-FEIRA', 'x1_QUINTA-FEIRA', 'x1_SEGUNDA-FEIRA',\n",
       "       'x1_SEXTA-FEIRA', 'x1_SÁBADO', 'x1_TERÇA-FEIRA',\n",
       "       'x2_CENTRO              ', 'x2_LESTE               ',\n",
       "       'x2_NORTE               ', 'x2_NÃO IDENTIFICADO    ',\n",
       "       'x2_SUL                 ', 'x3_1', 'x3_5', 'x3_13'], dtype=object)"
      ]
     },
     "execution_count": 8,
     "metadata": {},
     "output_type": "execute_result"
    }
   ],
   "source": [
    "nomes_atributos"
   ]
  },
  {
   "cell_type": "markdown",
   "metadata": {},
   "source": [
    "## Treinamento"
   ]
  },
  {
   "cell_type": "markdown",
   "metadata": {},
   "source": [
    "### Treinamento de uma Regressão Logística com SKLearn"
   ]
  },
  {
   "cell_type": "code",
   "execution_count": 9,
   "metadata": {},
   "outputs": [],
   "source": [
    "from sklearn.metrics import accuracy_score\n",
    "from sklearn.linear_model import LogisticRegression"
   ]
  },
  {
   "cell_type": "code",
   "execution_count": 10,
   "metadata": {},
   "outputs": [
    {
     "data": {
      "text/plain": [
       "array([False,  True])"
      ]
     },
     "execution_count": 10,
     "metadata": {},
     "output_type": "execute_result"
    }
   ],
   "source": [
    "log_reg = LogisticRegression(max_iter=300)\n",
    "\n",
    "log_reg.fit(X_treino, y_treino)\n",
    "log_reg.classes_"
   ]
  },
  {
   "cell_type": "code",
   "execution_count": 11,
   "metadata": {},
   "outputs": [
    {
     "data": {
      "text/plain": [
       "array([False, False, False, ..., False, False, False])"
      ]
     },
     "execution_count": 11,
     "metadata": {},
     "output_type": "execute_result"
    }
   ],
   "source": [
    "y_previsto_reglog = log_reg.predict(X_teste)\n",
    "y_previsto_reglog"
   ]
  },
  {
   "cell_type": "code",
   "execution_count": 12,
   "metadata": {},
   "outputs": [
    {
     "name": "stdout",
     "output_type": "stream",
     "text": [
      "Acurácia:  0.9999072614300287\n"
     ]
    }
   ],
   "source": [
    "print(\"Acurácia: \", accuracy_score(y_teste,y_previsto_reglog))"
   ]
  },
  {
   "cell_type": "markdown",
   "metadata": {},
   "source": [
    "### Treinamento de uma Árvore de Decisão  com SKLearn"
   ]
  },
  {
   "cell_type": "code",
   "execution_count": 13,
   "metadata": {},
   "outputs": [
    {
     "data": {
      "text/plain": [
       "array([False,  True])"
      ]
     },
     "execution_count": 13,
     "metadata": {},
     "output_type": "execute_result"
    }
   ],
   "source": [
    "from sklearn.tree import DecisionTreeClassifier\n",
    "\n",
    "arvore = DecisionTreeClassifier()\n",
    "arvore.fit(X_treino, y_treino)\n",
    "arvore.classes_"
   ]
  },
  {
   "cell_type": "code",
   "execution_count": 14,
   "metadata": {},
   "outputs": [
    {
     "data": {
      "text/plain": [
       "array([False, False, False, ..., False, False, False])"
      ]
     },
     "execution_count": 14,
     "metadata": {},
     "output_type": "execute_result"
    }
   ],
   "source": [
    "y_previsto_arvore = arvore.predict(X_teste)\n",
    "y_previsto_arvore"
   ]
  },
  {
   "cell_type": "code",
   "execution_count": 15,
   "metadata": {},
   "outputs": [
    {
     "name": "stdout",
     "output_type": "stream",
     "text": [
      "Acurácia:  0.9995363071501437\n"
     ]
    }
   ],
   "source": [
    "print(\"Acurácia: \", accuracy_score(y_teste,y_previsto_arvore))"
   ]
  },
  {
   "cell_type": "markdown",
   "metadata": {},
   "source": [
    "# Avaliação de Desempenho"
   ]
  },
  {
   "cell_type": "markdown",
   "metadata": {},
   "source": [
    "## Protocolo de validação cruzada\n",
    "<p>A figura abaixo ilustra o funcionamento da validação cruzada:</p>\n",
    "<p><a href=\"https://scikit-learn.org/stable/modules/cross_validation.html#cross-validation\">\n",
    "    <img src=\"https://scikit-learn.org/stable/_images/grid_search_cross_validation.png\" alt=\"Dimension levels.svg\">\n",
    "   </a></p>\n",
    "   <p>Fonte: <a href=\"https://scikit-learn.org/stable/modules/cross_validation.html#cross-validation\">Documentação do SKLearn</a></p>\n",
    "    \n"
   ]
  },
  {
   "cell_type": "code",
   "execution_count": 16,
   "metadata": {},
   "outputs": [
    {
     "name": "stdout",
     "output_type": "stream",
     "text": [
      "Acurácia em cada particionamento:  [0.99976814 0.99988407 0.99976814 1.         0.99988406]\n",
      "Acurácia média..................:  0.999860883006213\n"
     ]
    }
   ],
   "source": [
    "from sklearn.model_selection import cross_val_score\n",
    "\n",
    "scores = cross_val_score(arvore, X_treino, y_treino, cv=5)\n",
    "\n",
    "print(\"Acurácia em cada particionamento: \",scores)\n",
    "print(\"Acurácia média..................: \",scores.mean())"
   ]
  },
  {
   "cell_type": "markdown",
   "metadata": {},
   "source": [
    "## Otimizando os hiper-parâmetros"
   ]
  },
  {
   "cell_type": "code",
   "execution_count": 17,
   "metadata": {},
   "outputs": [
    {
     "data": {
      "text/plain": [
       "GridSearchCV(cv=None, error_score=nan,\n",
       "             estimator=DecisionTreeClassifier(ccp_alpha=0.0, class_weight=None,\n",
       "                                              criterion='gini', max_depth=None,\n",
       "                                              max_features=None,\n",
       "                                              max_leaf_nodes=None,\n",
       "                                              min_impurity_decrease=0.0,\n",
       "                                              min_impurity_split=None,\n",
       "                                              min_samples_leaf=1,\n",
       "                                              min_samples_split=2,\n",
       "                                              min_weight_fraction_leaf=0.0,\n",
       "                                              presort='deprecated',\n",
       "                                              random_state=None,\n",
       "                                              splitter='best'),\n",
       "             iid='deprecated', n_jobs=None,\n",
       "             param_grid=[{'max_depth': [1, 2, 3, 4, 5, 6, 7, 8, 9, 10],\n",
       "                          'min_samples_leaf': [2, 3, 4, 5]}],\n",
       "             pre_dispatch='2*n_jobs', refit=True, return_train_score=False,\n",
       "             scoring=None, verbose=0)"
      ]
     },
     "execution_count": 17,
     "metadata": {},
     "output_type": "execute_result"
    }
   ],
   "source": [
    "from sklearn.model_selection import GridSearchCV\n",
    "\n",
    "param_grid = [\n",
    " {'max_depth':        [1,2,3,4,5,6,7,8,9,10],\n",
    "  'min_samples_leaf': [2,3,4,5]\n",
    " }]\n",
    "\n",
    "grid_search = GridSearchCV(arvore, param_grid)\n",
    "grid_search.fit(X_treino, y_treino)"
   ]
  },
  {
   "cell_type": "code",
   "execution_count": 18,
   "metadata": {},
   "outputs": [
    {
     "data": {
      "text/plain": [
       "{'max_depth': 2, 'min_samples_leaf': 2}"
      ]
     },
     "execution_count": 18,
     "metadata": {},
     "output_type": "execute_result"
    }
   ],
   "source": [
    "grid_search.best_params_"
   ]
  },
  {
   "cell_type": "code",
   "execution_count": 19,
   "metadata": {},
   "outputs": [
    {
     "name": "stdout",
     "output_type": "stream",
     "text": [
      "Acurácia da melhor árvore:  0.9999072614300287\n"
     ]
    }
   ],
   "source": [
    "y_previsto_melhor_arvore = grid_search.best_estimator_.predict(X_teste)\n",
    "print(\"Acurácia da melhor árvore: \", accuracy_score(y_teste,y_previsto_melhor_arvore))"
   ]
  },
  {
   "cell_type": "markdown",
   "metadata": {},
   "source": [
    "### Acurácia por um previsor ignorante"
   ]
  },
  {
   "cell_type": "code",
   "execution_count": 20,
   "metadata": {},
   "outputs": [],
   "source": [
    "from sklearn.base import BaseEstimator\n",
    "\n",
    "# implementando um previsor que sempre chuta na classe False, ignorando os valores em X\n",
    "class PrevisorIgnorante(BaseEstimator):\n",
    "    def fit(self, X, y=None):\n",
    "        pass                                    # ou seja, não faz nada para aprender no método fit\n",
    "    def predict(self, X):\n",
    "        return np.zeros((len(X),), dtype=bool)  # ou seja, devolve um vetor de previsões \"False\", \n",
    "                                                # ignorando os valores dos atributos preditivos.\n",
    "\n",
    "# treinando\n",
    "ignorante = PrevisorIgnorante()\n",
    "ignorante.fit(X_treino, y_treino)"
   ]
  },
  {
   "cell_type": "code",
   "execution_count": 21,
   "metadata": {},
   "outputs": [
    {
     "data": {
      "text/plain": [
       "array([False, False, False, ..., False, False, False])"
      ]
     },
     "execution_count": 21,
     "metadata": {},
     "output_type": "execute_result"
    }
   ],
   "source": [
    "y_previsto_ign = ignorante.predict(X_teste)\n",
    "y_previsto_ign"
   ]
  },
  {
   "cell_type": "code",
   "execution_count": 22,
   "metadata": {},
   "outputs": [
    {
     "name": "stdout",
     "output_type": "stream",
     "text": [
      "Acurácia:  0.9960122414912362\n"
     ]
    }
   ],
   "source": [
    "print(\"Acurácia: \", accuracy_score(y_teste,y_previsto_ign))"
   ]
  },
  {
   "cell_type": "markdown",
   "metadata": {},
   "source": [
    "## Melhorando a avaliação de desempenho"
   ]
  },
  {
   "cell_type": "markdown",
   "metadata": {},
   "source": [
    "### Matriz de Confusão, também conhecida como Tabela de Contingência\n",
    "<p>\n",
    "Cada linha representa uma classe verdadeira, sendo a primeira a classe negativa e a segunda a classe positiva.<br>\n",
    "Cada coluna representa uma classe prevista, sendo a primeira a classe negativa e a segunda a classe positiva.\n",
    "</p>"
   ]
  },
  {
   "cell_type": "code",
   "execution_count": 23,
   "metadata": {},
   "outputs": [
    {
     "name": "stdout",
     "output_type": "stream",
     "text": [
      "                             ---------------------------\n",
      "                             |      Classe Prevista    |\n",
      "                             |  Negativa  |  Positiva  |\n",
      "--------------------------------------------------------\n",
      "                    Negativa |     VN     |     FP     |\n",
      "Classe Verdadeira            |-------------------------|\n",
      "                    Positiva |     FN     |     VP     |\n",
      "                             ---------------------------\n"
     ]
    }
   ],
   "source": [
    "print(\"                             ---------------------------\")\n",
    "print(\"                             |      Classe Prevista    |\")\n",
    "print(\"                             |  Negativa  |  Positiva  |\")\n",
    "print(\"--------------------------------------------------------\")\n",
    "print(\"                    Negativa |     VN     |     FP     |\")\n",
    "print(\"Classe Verdadeira            |-------------------------|\")\n",
    "print(\"                    Positiva |     FN     |     VP     |\")\n",
    "print(\"                             ---------------------------\")"
   ]
  },
  {
   "cell_type": "code",
   "execution_count": 24,
   "metadata": {},
   "outputs": [],
   "source": [
    "from sklearn.metrics import confusion_matrix\n",
    "from sklearn.metrics import precision_score   # VP / (VP+FP)\n",
    "from sklearn.metrics import recall_score      # VP / (VP+FN)\n",
    "from sklearn.metrics import f1_score          # Média harmônica entre precisão e revocação (recall)"
   ]
  },
  {
   "cell_type": "markdown",
   "metadata": {},
   "source": [
    "<p><b>Regressão logística:</b></p>"
   ]
  },
  {
   "cell_type": "code",
   "execution_count": 25,
   "metadata": {},
   "outputs": [
    {
     "name": "stdout",
     "output_type": "stream",
     "text": [
      "Matriz de confusão:\n",
      "[[10740     0]\n",
      " [    1    42]]\n",
      "\n",
      "Precisão:  1.0\n",
      "Recall  :  0.9767441860465116\n",
      "F1      :  0.988235294117647\n"
     ]
    }
   ],
   "source": [
    "print(\"Matriz de confusão:\")\n",
    "print(confusion_matrix(y_teste,y_previsto_reglog))\n",
    "print()\n",
    "print(\"Precisão: \", precision_score( y_teste,y_previsto_reglog))\n",
    "print(\"Recall  : \", recall_score(    y_teste,y_previsto_reglog))\n",
    "print(\"F1      : \", f1_score(        y_teste,y_previsto_reglog))"
   ]
  },
  {
   "cell_type": "markdown",
   "metadata": {},
   "source": [
    "<p><b>Árvore de decisão:</b></p>"
   ]
  },
  {
   "cell_type": "code",
   "execution_count": 26,
   "metadata": {},
   "outputs": [
    {
     "name": "stdout",
     "output_type": "stream",
     "text": [
      "Matriz de confusão:\n",
      "[[10736     4]\n",
      " [    1    42]]\n",
      "\n",
      "Precisão:  0.9130434782608695\n",
      "Recall  :  0.9767441860465116\n",
      "F1      :  0.9438202247191011\n"
     ]
    }
   ],
   "source": [
    "print(\"Matriz de confusão:\")\n",
    "print(confusion_matrix(y_teste,y_previsto_arvore))\n",
    "print()\n",
    "print(\"Precisão: \", precision_score( y_teste,y_previsto_arvore))\n",
    "print(\"Recall  : \", recall_score(    y_teste,y_previsto_arvore))\n",
    "print(\"F1      : \", f1_score(        y_teste,y_previsto_arvore))"
   ]
  },
  {
   "cell_type": "code",
   "execution_count": 27,
   "metadata": {},
   "outputs": [
    {
     "name": "stdout",
     "output_type": "stream",
     "text": [
      "Matriz de confusão:\n",
      "[[10740     0]\n",
      " [    1    42]]\n",
      "\n",
      "Precisão:  1.0\n",
      "Recall  :  0.9767441860465116\n",
      "F1      :  0.988235294117647\n"
     ]
    }
   ],
   "source": [
    "print(\"Matriz de confusão:\")\n",
    "print(confusion_matrix(y_teste,y_previsto_melhor_arvore))\n",
    "print()\n",
    "print(\"Precisão: \", precision_score( y_teste,y_previsto_melhor_arvore))\n",
    "print(\"Recall  : \", recall_score(    y_teste,y_previsto_melhor_arvore))\n",
    "print(\"F1      : \", f1_score(        y_teste,y_previsto_melhor_arvore))"
   ]
  },
  {
   "cell_type": "markdown",
   "metadata": {},
   "source": [
    "<p><b>Previsor ignorante:</b></p>"
   ]
  },
  {
   "cell_type": "code",
   "execution_count": 28,
   "metadata": {},
   "outputs": [
    {
     "name": "stdout",
     "output_type": "stream",
     "text": [
      "Matriz de confusão:\n",
      "[[10740     0]\n",
      " [   43     0]]\n",
      "\n",
      "Precisão:  0.0\n",
      "Recall  :  0.0\n",
      "F1      :  0.0\n"
     ]
    }
   ],
   "source": [
    "print(\"Matriz de confusão:\")\n",
    "print(confusion_matrix(y_teste,y_previsto_ign))\n",
    "print()\n",
    "print(\"Precisão: \", precision_score( y_teste,y_previsto_ign,  zero_division=0))\n",
    "print(\"Recall  : \", recall_score(    y_teste,y_previsto_ign))\n",
    "print(\"F1      : \", f1_score(        y_teste,y_previsto_ign))"
   ]
  }
 ],
 "metadata": {
  "kernelspec": {
   "display_name": "Python 3",
   "language": "python",
   "name": "python3"
  },
  "language_info": {
   "codemirror_mode": {
    "name": "ipython",
    "version": 3
   },
   "file_extension": ".py",
   "mimetype": "text/x-python",
   "name": "python",
   "nbconvert_exporter": "python",
   "pygments_lexer": "ipython3",
   "version": "3.6.10"
  }
 },
 "nbformat": 4,
 "nbformat_minor": 2
}
