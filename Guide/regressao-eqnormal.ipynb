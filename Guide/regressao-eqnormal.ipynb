{
 "cells": [
  {
   "cell_type": "markdown",
   "metadata": {},
   "source": [
    "# Treinamento de um modelo de Regressão Linear utilizando a Equação Normal\n",
    "<h3>Gerando matriz X com dados de treino</h3>"
   ]
  },
  {
   "cell_type": "code",
   "execution_count": 161,
   "metadata": {},
   "outputs": [],
   "source": [
    "import numpy as np\n",
    "import numpy.random as rnd\n",
    "\n",
    "X_original = 10 * rnd.rand(100, 1)"
   ]
  },
  {
   "cell_type": "code",
   "execution_count": 162,
   "metadata": {
    "scrolled": true
   },
   "outputs": [
    {
     "data": {
      "text/plain": [
       "array([[7.62332775],\n",
       "       [4.23916769],\n",
       "       [1.50746042],\n",
       "       [0.86941319],\n",
       "       [4.65184741],\n",
       "       [5.26215603],\n",
       "       [2.63001021],\n",
       "       [8.57215804],\n",
       "       [8.88225288],\n",
       "       [7.82909615],\n",
       "       [8.3535605 ],\n",
       "       [4.72108042],\n",
       "       [3.18009528],\n",
       "       [7.00288347],\n",
       "       [4.14744404],\n",
       "       [6.92697131],\n",
       "       [1.88590372],\n",
       "       [1.59582926],\n",
       "       [3.40353147],\n",
       "       [2.98053422],\n",
       "       [3.27355029],\n",
       "       [3.18259102],\n",
       "       [2.00227985],\n",
       "       [4.59299191],\n",
       "       [3.30964996],\n",
       "       [7.8410419 ],\n",
       "       [3.06464677],\n",
       "       [0.29647589],\n",
       "       [6.0630107 ],\n",
       "       [0.10354634],\n",
       "       [9.73806224],\n",
       "       [3.7797378 ],\n",
       "       [2.18489517],\n",
       "       [9.75913398],\n",
       "       [0.30738128],\n",
       "       [4.54115543],\n",
       "       [0.28234907],\n",
       "       [8.57472212],\n",
       "       [2.25202415],\n",
       "       [7.21660323],\n",
       "       [1.8948252 ],\n",
       "       [8.40601239],\n",
       "       [4.96133646],\n",
       "       [6.22695709],\n",
       "       [3.85210296],\n",
       "       [3.3471037 ],\n",
       "       [3.65176961],\n",
       "       [2.35321718],\n",
       "       [4.84166886],\n",
       "       [0.59717174],\n",
       "       [0.89459316],\n",
       "       [2.92314045],\n",
       "       [9.42536295],\n",
       "       [5.23444572],\n",
       "       [7.97287397],\n",
       "       [2.33801298],\n",
       "       [5.73130538],\n",
       "       [0.70615283],\n",
       "       [3.73063866],\n",
       "       [8.15385874],\n",
       "       [7.99433908],\n",
       "       [3.63911238],\n",
       "       [4.84012733],\n",
       "       [0.7551386 ],\n",
       "       [1.27464072],\n",
       "       [3.78755832],\n",
       "       [9.14196266],\n",
       "       [7.68518229],\n",
       "       [1.24992657],\n",
       "       [8.10641775],\n",
       "       [7.41940695],\n",
       "       [8.87264448],\n",
       "       [7.3821712 ],\n",
       "       [7.73204895],\n",
       "       [2.28353862],\n",
       "       [5.40018989],\n",
       "       [1.95730336],\n",
       "       [2.93057122],\n",
       "       [8.88362931],\n",
       "       [1.4775819 ],\n",
       "       [2.06495877],\n",
       "       [4.0869296 ],\n",
       "       [7.61337365],\n",
       "       [5.72407264],\n",
       "       [4.73097844],\n",
       "       [9.98574533],\n",
       "       [9.51796085],\n",
       "       [2.72068078],\n",
       "       [5.88309225],\n",
       "       [5.05672381],\n",
       "       [9.9014399 ],\n",
       "       [6.59359181],\n",
       "       [1.72875576],\n",
       "       [3.20941935],\n",
       "       [4.93604745],\n",
       "       [3.27510159],\n",
       "       [9.93364873],\n",
       "       [0.45718918],\n",
       "       [7.26743945],\n",
       "       [1.45212247]])"
      ]
     },
     "execution_count": 162,
     "metadata": {},
     "output_type": "execute_result"
    }
   ],
   "source": [
    "X_original"
   ]
  },
  {
   "cell_type": "markdown",
   "metadata": {},
   "source": [
    "<h2>Função <i>f</i>(<b>x</b>):</h2>\n",
    "<p>A função <i>f</i>(<b>x</b>) tem o seguinte formato geral:</p>\n",
    "<p><i>f</i>(<b>x</b>) = mx + b, ou seja:</p>\n",
    "<p>y = mx + b</p>\n",
    "<p>Esta função geralmente é desconhecida. Porém, para fins didáticos, neste exemplo nós conhecemos a função e iremos gerar dados com ela. Utilizaremos os seguintes coeficientes:</p>\n",
    "<p>x = 0,8</p>\n",
    "<p>b = 4,0</p>\n",
    "<p>De forma que no nosso exemplo a função <i>f</i>(<b>x</b>) é a seguinte:</p>\n",
    "<p><i>f</i>(<b>x</b>) = 0,8x + 4 + erro, ou seja:</p>\n",
    "<p>y = 0,8x + 4 + erro</p>\n",
    "<p>Por enquanto, vamos gerar nosso dataset de exemplo com estes coeficientes e visualizá-lo. Depois, sem utilizar os coeficientes originais, os quais conhecemos, utilizaremos regressão linear para tentar descobrir estes coeficientes.</p>\n",
    "<h2>Utilizando a Função <i>f</i>(<b>x</b>) para gerar um dataset:</h2>"
   ]
  },
  {
   "cell_type": "code",
   "execution_count": 163,
   "metadata": {
    "scrolled": true
   },
   "outputs": [
    {
     "data": {
      "text/plain": [
       "array([[10.85240127],\n",
       "       [ 6.64150116],\n",
       "       [ 7.69088578],\n",
       "       [ 5.97942144],\n",
       "       [ 7.71807866],\n",
       "       [ 8.36223617],\n",
       "       [ 6.46565939],\n",
       "       [10.87891285],\n",
       "       [10.81249817],\n",
       "       [10.75078254],\n",
       "       [12.20901348],\n",
       "       [ 9.13442513],\n",
       "       [ 6.80120135],\n",
       "       [12.1688753 ],\n",
       "       [ 5.80159411],\n",
       "       [ 8.65953751],\n",
       "       [ 6.23984868],\n",
       "       [ 4.78610226],\n",
       "       [ 6.549824  ],\n",
       "       [ 6.56897463],\n",
       "       [ 6.78295308],\n",
       "       [ 6.46740833],\n",
       "       [ 6.05515001],\n",
       "       [ 9.18295051],\n",
       "       [ 5.2673982 ],\n",
       "       [12.16455691],\n",
       "       [ 6.72134932],\n",
       "       [ 3.71081084],\n",
       "       [ 9.27903228],\n",
       "       [ 3.69054824],\n",
       "       [11.65432012],\n",
       "       [ 7.30454762],\n",
       "       [ 4.92226208],\n",
       "       [11.9105971 ],\n",
       "       [ 3.47208658],\n",
       "       [ 7.0444041 ],\n",
       "       [ 3.36892538],\n",
       "       [10.10067352],\n",
       "       [ 6.41407585],\n",
       "       [ 9.71304712],\n",
       "       [ 6.29866967],\n",
       "       [ 9.27137226],\n",
       "       [ 9.16754463],\n",
       "       [ 8.63305151],\n",
       "       [ 5.88150704],\n",
       "       [ 5.77611431],\n",
       "       [ 5.96725074],\n",
       "       [ 5.50197003],\n",
       "       [ 9.32968428],\n",
       "       [ 2.65914799],\n",
       "       [ 6.47815105],\n",
       "       [ 5.65314634],\n",
       "       [13.67686587],\n",
       "       [10.37217164],\n",
       "       [ 9.72586226],\n",
       "       [ 5.6256401 ],\n",
       "       [ 9.92246574],\n",
       "       [ 3.37370433],\n",
       "       [ 7.06265469],\n",
       "       [10.60932132],\n",
       "       [10.33218258],\n",
       "       [ 7.35489978],\n",
       "       [ 8.47733747],\n",
       "       [ 5.13491615],\n",
       "       [ 5.36521779],\n",
       "       [ 7.18406873],\n",
       "       [12.14955139],\n",
       "       [ 9.06576337],\n",
       "       [ 3.89416465],\n",
       "       [12.63452583],\n",
       "       [10.37915312],\n",
       "       [11.44319028],\n",
       "       [ 9.548415  ],\n",
       "       [10.07425106],\n",
       "       [ 5.59410261],\n",
       "       [ 7.96833512],\n",
       "       [ 5.15919645],\n",
       "       [ 5.8129009 ],\n",
       "       [ 9.75306395],\n",
       "       [ 5.89697607],\n",
       "       [ 5.66633885],\n",
       "       [ 5.48395196],\n",
       "       [10.73121936],\n",
       "       [ 9.11932357],\n",
       "       [ 5.13572875],\n",
       "       [12.1775871 ],\n",
       "       [11.43840371],\n",
       "       [ 6.52579859],\n",
       "       [ 8.98053517],\n",
       "       [ 8.24724181],\n",
       "       [13.9412524 ],\n",
       "       [ 9.18162414],\n",
       "       [ 5.55791104],\n",
       "       [ 5.90447519],\n",
       "       [ 8.37725483],\n",
       "       [ 6.71485849],\n",
       "       [12.87033715],\n",
       "       [ 5.66054233],\n",
       "       [ 8.95266055],\n",
       "       [ 3.02209835]])"
      ]
     },
     "execution_count": 163,
     "metadata": {},
     "output_type": "execute_result"
    }
   ],
   "source": [
    "y = 0.8 * X_original + 4 + rnd.randn(100, 1)\n",
    "y"
   ]
  },
  {
   "cell_type": "code",
   "execution_count": 164,
   "metadata": {},
   "outputs": [
    {
     "data": {
      "image/png": "[encoded data removed]",
      "text/plain": [
       "<Figure size 576x576 with 1 Axes>"
      ]
     },
     "metadata": {
      "needs_background": "light"
     },
     "output_type": "display_data"
    }
   ],
   "source": [
    "import matplotlib.pyplot as plt\n",
    "\n",
    "plt.figure(figsize=(8,8))\n",
    "plt.plot(X_original, y, \"b.\")\n",
    "plt.axis([0, 14, 0, 14])\n",
    "plt.xlabel(\"x\")\n",
    "plt.ylabel(\"y\")\n",
    "plt.show()"
   ]
  },
  {
   "cell_type": "markdown",
   "metadata": {},
   "source": [
    "<h3>Acrescentando a coluna 0 em X</h3>"
   ]
  },
  {
   "cell_type": "code",
   "execution_count": 165,
   "metadata": {
    "scrolled": true
   },
   "outputs": [
    {
     "data": {
      "text/plain": [
       "array([[7.62332775],\n",
       "       [4.23916769],\n",
       "       [1.50746042],\n",
       "       [0.86941319],\n",
       "       [4.65184741],\n",
       "       [5.26215603],\n",
       "       [2.63001021],\n",
       "       [8.57215804],\n",
       "       [8.88225288],\n",
       "       [7.82909615],\n",
       "       [8.3535605 ],\n",
       "       [4.72108042],\n",
       "       [3.18009528],\n",
       "       [7.00288347],\n",
       "       [4.14744404],\n",
       "       [6.92697131],\n",
       "       [1.88590372],\n",
       "       [1.59582926],\n",
       "       [3.40353147],\n",
       "       [2.98053422],\n",
       "       [3.27355029],\n",
       "       [3.18259102],\n",
       "       [2.00227985],\n",
       "       [4.59299191],\n",
       "       [3.30964996],\n",
       "       [7.8410419 ],\n",
       "       [3.06464677],\n",
       "       [0.29647589],\n",
       "       [6.0630107 ],\n",
       "       [0.10354634],\n",
       "       [9.73806224],\n",
       "       [3.7797378 ],\n",
       "       [2.18489517],\n",
       "       [9.75913398],\n",
       "       [0.30738128],\n",
       "       [4.54115543],\n",
       "       [0.28234907],\n",
       "       [8.57472212],\n",
       "       [2.25202415],\n",
       "       [7.21660323],\n",
       "       [1.8948252 ],\n",
       "       [8.40601239],\n",
       "       [4.96133646],\n",
       "       [6.22695709],\n",
       "       [3.85210296],\n",
       "       [3.3471037 ],\n",
       "       [3.65176961],\n",
       "       [2.35321718],\n",
       "       [4.84166886],\n",
       "       [0.59717174],\n",
       "       [0.89459316],\n",
       "       [2.92314045],\n",
       "       [9.42536295],\n",
       "       [5.23444572],\n",
       "       [7.97287397],\n",
       "       [2.33801298],\n",
       "       [5.73130538],\n",
       "       [0.70615283],\n",
       "       [3.73063866],\n",
       "       [8.15385874],\n",
       "       [7.99433908],\n",
       "       [3.63911238],\n",
       "       [4.84012733],\n",
       "       [0.7551386 ],\n",
       "       [1.27464072],\n",
       "       [3.78755832],\n",
       "       [9.14196266],\n",
       "       [7.68518229],\n",
       "       [1.24992657],\n",
       "       [8.10641775],\n",
       "       [7.41940695],\n",
       "       [8.87264448],\n",
       "       [7.3821712 ],\n",
       "       [7.73204895],\n",
       "       [2.28353862],\n",
       "       [5.40018989],\n",
       "       [1.95730336],\n",
       "       [2.93057122],\n",
       "       [8.88362931],\n",
       "       [1.4775819 ],\n",
       "       [2.06495877],\n",
       "       [4.0869296 ],\n",
       "       [7.61337365],\n",
       "       [5.72407264],\n",
       "       [4.73097844],\n",
       "       [9.98574533],\n",
       "       [9.51796085],\n",
       "       [2.72068078],\n",
       "       [5.88309225],\n",
       "       [5.05672381],\n",
       "       [9.9014399 ],\n",
       "       [6.59359181],\n",
       "       [1.72875576],\n",
       "       [3.20941935],\n",
       "       [4.93604745],\n",
       "       [3.27510159],\n",
       "       [9.93364873],\n",
       "       [0.45718918],\n",
       "       [7.26743945],\n",
       "       [1.45212247]])"
      ]
     },
     "execution_count": 165,
     "metadata": {},
     "output_type": "execute_result"
    }
   ],
   "source": [
    "X_original"
   ]
  },
  {
   "cell_type": "code",
   "execution_count": 166,
   "metadata": {
    "scrolled": true
   },
   "outputs": [
    {
     "data": {
      "text/plain": [
       "array([[1.        , 7.62332775],\n",
       "       [1.        , 4.23916769],\n",
       "       [1.        , 1.50746042],\n",
       "       [1.        , 0.86941319],\n",
       "       [1.        , 4.65184741],\n",
       "       [1.        , 5.26215603],\n",
       "       [1.        , 2.63001021],\n",
       "       [1.        , 8.57215804],\n",
       "       [1.        , 8.88225288],\n",
       "       [1.        , 7.82909615],\n",
       "       [1.        , 8.3535605 ],\n",
       "       [1.        , 4.72108042],\n",
       "       [1.        , 3.18009528],\n",
       "       [1.        , 7.00288347],\n",
       "       [1.        , 4.14744404],\n",
       "       [1.        , 6.92697131],\n",
       "       [1.        , 1.88590372],\n",
       "       [1.        , 1.59582926],\n",
       "       [1.        , 3.40353147],\n",
       "       [1.        , 2.98053422],\n",
       "       [1.        , 3.27355029],\n",
       "       [1.        , 3.18259102],\n",
       "       [1.        , 2.00227985],\n",
       "       [1.        , 4.59299191],\n",
       "       [1.        , 3.30964996],\n",
       "       [1.        , 7.8410419 ],\n",
       "       [1.        , 3.06464677],\n",
       "       [1.        , 0.29647589],\n",
       "       [1.        , 6.0630107 ],\n",
       "       [1.        , 0.10354634],\n",
       "       [1.        , 9.73806224],\n",
       "       [1.        , 3.7797378 ],\n",
       "       [1.        , 2.18489517],\n",
       "       [1.        , 9.75913398],\n",
       "       [1.        , 0.30738128],\n",
       "       [1.        , 4.54115543],\n",
       "       [1.        , 0.28234907],\n",
       "       [1.        , 8.57472212],\n",
       "       [1.        , 2.25202415],\n",
       "       [1.        , 7.21660323],\n",
       "       [1.        , 1.8948252 ],\n",
       "       [1.        , 8.40601239],\n",
       "       [1.        , 4.96133646],\n",
       "       [1.        , 6.22695709],\n",
       "       [1.        , 3.85210296],\n",
       "       [1.        , 3.3471037 ],\n",
       "       [1.        , 3.65176961],\n",
       "       [1.        , 2.35321718],\n",
       "       [1.        , 4.84166886],\n",
       "       [1.        , 0.59717174],\n",
       "       [1.        , 0.89459316],\n",
       "       [1.        , 2.92314045],\n",
       "       [1.        , 9.42536295],\n",
       "       [1.        , 5.23444572],\n",
       "       [1.        , 7.97287397],\n",
       "       [1.        , 2.33801298],\n",
       "       [1.        , 5.73130538],\n",
       "       [1.        , 0.70615283],\n",
       "       [1.        , 3.73063866],\n",
       "       [1.        , 8.15385874],\n",
       "       [1.        , 7.99433908],\n",
       "       [1.        , 3.63911238],\n",
       "       [1.        , 4.84012733],\n",
       "       [1.        , 0.7551386 ],\n",
       "       [1.        , 1.27464072],\n",
       "       [1.        , 3.78755832],\n",
       "       [1.        , 9.14196266],\n",
       "       [1.        , 7.68518229],\n",
       "       [1.        , 1.24992657],\n",
       "       [1.        , 8.10641775],\n",
       "       [1.        , 7.41940695],\n",
       "       [1.        , 8.87264448],\n",
       "       [1.        , 7.3821712 ],\n",
       "       [1.        , 7.73204895],\n",
       "       [1.        , 2.28353862],\n",
       "       [1.        , 5.40018989],\n",
       "       [1.        , 1.95730336],\n",
       "       [1.        , 2.93057122],\n",
       "       [1.        , 8.88362931],\n",
       "       [1.        , 1.4775819 ],\n",
       "       [1.        , 2.06495877],\n",
       "       [1.        , 4.0869296 ],\n",
       "       [1.        , 7.61337365],\n",
       "       [1.        , 5.72407264],\n",
       "       [1.        , 4.73097844],\n",
       "       [1.        , 9.98574533],\n",
       "       [1.        , 9.51796085],\n",
       "       [1.        , 2.72068078],\n",
       "       [1.        , 5.88309225],\n",
       "       [1.        , 5.05672381],\n",
       "       [1.        , 9.9014399 ],\n",
       "       [1.        , 6.59359181],\n",
       "       [1.        , 1.72875576],\n",
       "       [1.        , 3.20941935],\n",
       "       [1.        , 4.93604745],\n",
       "       [1.        , 3.27510159],\n",
       "       [1.        , 9.93364873],\n",
       "       [1.        , 0.45718918],\n",
       "       [1.        , 7.26743945],\n",
       "       [1.        , 1.45212247]])"
      ]
     },
     "execution_count": 166,
     "metadata": {},
     "output_type": "execute_result"
    }
   ],
   "source": [
    "X = np.concatenate((np.ones((100, 1)), X_original),axis=1)\n",
    "X"
   ]
  },
  {
   "cell_type": "markdown",
   "metadata": {},
   "source": [
    "<h2>Obtendo o vetor de parâmetros com o uso da equação normal</h2>"
   ]
  },
  {
   "cell_type": "code",
   "execution_count": 167,
   "metadata": {},
   "outputs": [
    {
     "data": {
      "text/plain": [
       "array([[3.79603966],\n",
       "       [0.86051028]])"
      ]
     },
     "execution_count": 167,
     "metadata": {},
     "output_type": "execute_result"
    }
   ],
   "source": [
    "import numpy.linalg as linalg\n",
    "\n",
    "theta = linalg.inv(X.T.dot(X)).dot(X.T).dot(y)\n",
    "theta"
   ]
  },
  {
   "cell_type": "code",
   "execution_count": 168,
   "metadata": {},
   "outputs": [
    {
     "name": "stdout",
     "output_type": "stream",
     "text": [
      "Parâmetros descobertos com a equação normal: m= 0.8605102818553284 , b= 3.796039655741464\n"
     ]
    }
   ],
   "source": [
    "print(\"Parâmetros descobertos com a equação normal: m=\",theta[1,0],\", b=\",theta[0,0])"
   ]
  },
  {
   "cell_type": "markdown",
   "metadata": {},
   "source": [
    "<h3>Fazendo previsões com o uso do vetor de parâmetros e a equação da regressão linear:</h3>"
   ]
  },
  {
   "cell_type": "code",
   "execution_count": 169,
   "metadata": {},
   "outputs": [
    {
     "data": {
      "text/plain": [
       "array([[1.5],\n",
       "       [8.3]])"
      ]
     },
     "execution_count": 169,
     "metadata": {},
     "output_type": "execute_result"
    }
   ],
   "source": [
    "X_teste_original = np.array([[1.5], [8.3]])\n",
    "X_teste_original"
   ]
  },
  {
   "cell_type": "code",
   "execution_count": 170,
   "metadata": {},
   "outputs": [
    {
     "data": {
      "text/plain": [
       "array([[1. , 1.5],\n",
       "       [1. , 8.3]])"
      ]
     },
     "execution_count": 170,
     "metadata": {},
     "output_type": "execute_result"
    }
   ],
   "source": [
    "X_teste = np.concatenate((np.ones((2, 1)), X_teste_original),axis=1)\n",
    "X_teste"
   ]
  },
  {
   "cell_type": "code",
   "execution_count": 171,
   "metadata": {},
   "outputs": [
    {
     "data": {
      "text/plain": [
       "array([[ 5.08680508],\n",
       "       [10.938275  ]])"
      ]
     },
     "execution_count": 171,
     "metadata": {},
     "output_type": "execute_result"
    }
   ],
   "source": [
    "y_previsto = X_teste.dot(theta)\n",
    "y_previsto"
   ]
  },
  {
   "cell_type": "code",
   "execution_count": 172,
   "metadata": {},
   "outputs": [
    {
     "data": {
      "image/png": "[encoded data removed]",
      "text/plain": [
       "<Figure size 576x576 with 1 Axes>"
      ]
     },
     "metadata": {
      "needs_background": "light"
     },
     "output_type": "display_data"
    }
   ],
   "source": [
    "plt.figure(figsize=(8,8))\n",
    "plt.plot(X_original, y, \"b.\")\n",
    "plt.plot(X_teste_original, y_previsto, \"r.\")\n",
    "plt.axis([0, 14, 0, 14])\n",
    "plt.xlabel(\"x\")\n",
    "plt.ylabel(\"y\")\n",
    "plt.show()"
   ]
  },
  {
   "cell_type": "markdown",
   "metadata": {},
   "source": [
    "<h3>Usando Scikit-Learn para obter os parâmetros</h3>"
   ]
  },
  {
   "cell_type": "code",
   "execution_count": 173,
   "metadata": {},
   "outputs": [
    {
     "data": {
      "text/plain": [
       "(array([[0.86051028]]), array([3.79603966]))"
      ]
     },
     "execution_count": 173,
     "metadata": {},
     "output_type": "execute_result"
    }
   ],
   "source": [
    "from sklearn.linear_model import LinearRegression\n",
    "\n",
    "lin_reg = LinearRegression()\n",
    "lin_reg.fit(X_original, y)\n",
    "\n",
    "lin_reg.coef_, lin_reg.intercept_"
   ]
  },
  {
   "cell_type": "code",
   "execution_count": 174,
   "metadata": {},
   "outputs": [
    {
     "data": {
      "text/plain": [
       "array([[ 5.08680508],\n",
       "       [10.938275  ]])"
      ]
     },
     "execution_count": 174,
     "metadata": {},
     "output_type": "execute_result"
    }
   ],
   "source": [
    "lin_reg.predict(X_teste_original)"
   ]
  },
  {
   "cell_type": "markdown",
   "metadata": {},
   "source": [
    "<h2>Exercícios</h2>\n",
    "<p><b>Exercício 1:</b> Criar um modelo preditivo utilizando regressão linear para prever o valor da coluna cnt do dataset day.csv utilizando apenas a coluna season. Utilize a equação normal para obter os coeficientes do modelo.</p>\n",
    "<p><b>Exercício 2:</b> Criar um modelo preditivo utilizando regressão linear para prever o valor da coluna cnt do dataset day.csv utilizando apenas a coluna season. Utilize o pacote Scikit-Learn para obter os coeficientes do modelo.</p>\n",
    "<p><b>Exercício 3:</b> Utilizando os parâmetros descobertos, escrever o modelo obtido sob a forma de equação da reta, ou seja, escrever a função <i>h</i>(<b>x</b>) obtida.</p>"
   ]
  }
 ],
 "metadata": {
  "kernelspec": {
   "display_name": "Python 3",
   "language": "python",
   "name": "python3"
  },
  "language_info": {
   "codemirror_mode": {
    "name": "ipython",
    "version": 3
   },
   "file_extension": ".py",
   "mimetype": "text/x-python",
   "name": "python",
   "nbconvert_exporter": "python",
   "pygments_lexer": "ipython3",
   "version": "3.6.10"
  }
 },
 "nbformat": 4,
 "nbformat_minor": 2
}
